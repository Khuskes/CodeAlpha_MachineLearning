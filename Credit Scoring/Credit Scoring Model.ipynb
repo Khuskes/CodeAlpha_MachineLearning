{
 "cells": [
  {
   "cell_type": "code",
   "execution_count": 1,
   "id": "53693bf1",
   "metadata": {},
   "outputs": [],
   "source": [
    "#importing libraries\n",
    "import pandas as pd\n",
    "import numpy as np"
   ]
  },
  {
   "cell_type": "code",
   "execution_count": 2,
   "id": "d1db4e2a",
   "metadata": {},
   "outputs": [
    {
     "data": {
      "text/html": [
       "<div>\n",
       "<style scoped>\n",
       "    .dataframe tbody tr th:only-of-type {\n",
       "        vertical-align: middle;\n",
       "    }\n",
       "\n",
       "    .dataframe tbody tr th {\n",
       "        vertical-align: top;\n",
       "    }\n",
       "\n",
       "    .dataframe thead th {\n",
       "        text-align: right;\n",
       "    }\n",
       "</style>\n",
       "<table border=\"1\" class=\"dataframe\">\n",
       "  <thead>\n",
       "    <tr style=\"text-align: right;\">\n",
       "      <th></th>\n",
       "      <th>Age</th>\n",
       "      <th>Gender</th>\n",
       "      <th>Marital Status</th>\n",
       "      <th>Education Level</th>\n",
       "      <th>Employment Status</th>\n",
       "      <th>Credit Utilization Ratio</th>\n",
       "      <th>Payment History</th>\n",
       "      <th>Number of Credit Accounts</th>\n",
       "      <th>Loan Amount</th>\n",
       "      <th>Interest Rate</th>\n",
       "      <th>Loan Term</th>\n",
       "      <th>Type of Loan</th>\n",
       "    </tr>\n",
       "  </thead>\n",
       "  <tbody>\n",
       "    <tr>\n",
       "      <th>0</th>\n",
       "      <td>60</td>\n",
       "      <td>Male</td>\n",
       "      <td>Married</td>\n",
       "      <td>Master</td>\n",
       "      <td>Employed</td>\n",
       "      <td>0.22</td>\n",
       "      <td>2685.0</td>\n",
       "      <td>2</td>\n",
       "      <td>4675000</td>\n",
       "      <td>2.65</td>\n",
       "      <td>48</td>\n",
       "      <td>Personal Loan</td>\n",
       "    </tr>\n",
       "    <tr>\n",
       "      <th>1</th>\n",
       "      <td>25</td>\n",
       "      <td>Male</td>\n",
       "      <td>Married</td>\n",
       "      <td>High School</td>\n",
       "      <td>Unemployed</td>\n",
       "      <td>0.20</td>\n",
       "      <td>2371.0</td>\n",
       "      <td>9</td>\n",
       "      <td>3619000</td>\n",
       "      <td>5.19</td>\n",
       "      <td>60</td>\n",
       "      <td>Auto Loan</td>\n",
       "    </tr>\n",
       "    <tr>\n",
       "      <th>2</th>\n",
       "      <td>30</td>\n",
       "      <td>Female</td>\n",
       "      <td>Single</td>\n",
       "      <td>Master</td>\n",
       "      <td>Employed</td>\n",
       "      <td>0.22</td>\n",
       "      <td>2771.0</td>\n",
       "      <td>6</td>\n",
       "      <td>957000</td>\n",
       "      <td>2.76</td>\n",
       "      <td>12</td>\n",
       "      <td>Auto Loan</td>\n",
       "    </tr>\n",
       "    <tr>\n",
       "      <th>3</th>\n",
       "      <td>58</td>\n",
       "      <td>Female</td>\n",
       "      <td>Married</td>\n",
       "      <td>PhD</td>\n",
       "      <td>Unemployed</td>\n",
       "      <td>0.12</td>\n",
       "      <td>1371.0</td>\n",
       "      <td>2</td>\n",
       "      <td>4731000</td>\n",
       "      <td>6.57</td>\n",
       "      <td>60</td>\n",
       "      <td>Auto Loan</td>\n",
       "    </tr>\n",
       "    <tr>\n",
       "      <th>4</th>\n",
       "      <td>32</td>\n",
       "      <td>Male</td>\n",
       "      <td>Married</td>\n",
       "      <td>Bachelor</td>\n",
       "      <td>Self-Employed</td>\n",
       "      <td>0.99</td>\n",
       "      <td>828.0</td>\n",
       "      <td>2</td>\n",
       "      <td>3289000</td>\n",
       "      <td>6.28</td>\n",
       "      <td>36</td>\n",
       "      <td>Personal Loan</td>\n",
       "    </tr>\n",
       "  </tbody>\n",
       "</table>\n",
       "</div>"
      ],
      "text/plain": [
       "   Age  Gender Marital Status Education Level Employment Status  \\\n",
       "0   60    Male        Married          Master          Employed   \n",
       "1   25    Male        Married     High School        Unemployed   \n",
       "2   30  Female         Single          Master          Employed   \n",
       "3   58  Female        Married             PhD        Unemployed   \n",
       "4   32    Male        Married        Bachelor     Self-Employed   \n",
       "\n",
       "   Credit Utilization Ratio  Payment History  Number of Credit Accounts  \\\n",
       "0                      0.22           2685.0                          2   \n",
       "1                      0.20           2371.0                          9   \n",
       "2                      0.22           2771.0                          6   \n",
       "3                      0.12           1371.0                          2   \n",
       "4                      0.99            828.0                          2   \n",
       "\n",
       "   Loan Amount  Interest Rate  Loan Term   Type of Loan  \n",
       "0      4675000           2.65         48  Personal Loan  \n",
       "1      3619000           5.19         60      Auto Loan  \n",
       "2       957000           2.76         12      Auto Loan  \n",
       "3      4731000           6.57         60      Auto Loan  \n",
       "4      3289000           6.28         36  Personal Loan  "
      ]
     },
     "execution_count": 2,
     "metadata": {},
     "output_type": "execute_result"
    }
   ],
   "source": [
    "#importing csv file and printing first n rows\n",
    "df= pd.read_csv(\"credit_scoring.csv\")\n",
    "df.head()"
   ]
  },
  {
   "cell_type": "code",
   "execution_count": 3,
   "id": "7be0a38b",
   "metadata": {},
   "outputs": [
    {
     "data": {
      "text/plain": [
       "(1000, 12)"
      ]
     },
     "execution_count": 3,
     "metadata": {},
     "output_type": "execute_result"
    }
   ],
   "source": [
    "#to fetch the dimension of the dataset\n",
    "df.shape"
   ]
  },
  {
   "cell_type": "code",
   "execution_count": 4,
   "id": "7bbc9ee8",
   "metadata": {},
   "outputs": [
    {
     "data": {
      "text/plain": [
       "0"
      ]
     },
     "execution_count": 4,
     "metadata": {},
     "output_type": "execute_result"
    }
   ],
   "source": [
    "#to fetch duplicate values in diffrent rows\n",
    "sum(df.duplicated())"
   ]
  },
  {
   "cell_type": "code",
   "execution_count": 5,
   "id": "d7d31dba",
   "metadata": {},
   "outputs": [
    {
     "data": {
      "text/plain": [
       "Age                          0\n",
       "Gender                       0\n",
       "Marital Status               0\n",
       "Education Level              0\n",
       "Employment Status            0\n",
       "Credit Utilization Ratio     0\n",
       "Payment History              0\n",
       "Number of Credit Accounts    0\n",
       "Loan Amount                  0\n",
       "Interest Rate                0\n",
       "Loan Term                    0\n",
       "Type of Loan                 0\n",
       "dtype: int64"
      ]
     },
     "execution_count": 5,
     "metadata": {},
     "output_type": "execute_result"
    }
   ],
   "source": [
    "#to find if there is null values in any rows\n",
    "df.isnull().sum()"
   ]
  },
  {
   "cell_type": "code",
   "execution_count": 6,
   "id": "023370c3",
   "metadata": {},
   "outputs": [],
   "source": [
    "#using map function \n",
    "df[\"Type of Loan\"]=df[\"Type of Loan\"].map({\"Personal Loan\":2,\"Home Loan\":1,\"Auto Loan\":0})"
   ]
  },
  {
   "cell_type": "code",
   "execution_count": 7,
   "id": "df19eef3",
   "metadata": {},
   "outputs": [
    {
     "data": {
      "text/html": [
       "<div>\n",
       "<style scoped>\n",
       "    .dataframe tbody tr th:only-of-type {\n",
       "        vertical-align: middle;\n",
       "    }\n",
       "\n",
       "    .dataframe tbody tr th {\n",
       "        vertical-align: top;\n",
       "    }\n",
       "\n",
       "    .dataframe thead th {\n",
       "        text-align: right;\n",
       "    }\n",
       "</style>\n",
       "<table border=\"1\" class=\"dataframe\">\n",
       "  <thead>\n",
       "    <tr style=\"text-align: right;\">\n",
       "      <th></th>\n",
       "      <th>Age</th>\n",
       "      <th>Gender</th>\n",
       "      <th>Marital Status</th>\n",
       "      <th>Education Level</th>\n",
       "      <th>Employment Status</th>\n",
       "      <th>Credit Utilization Ratio</th>\n",
       "      <th>Payment History</th>\n",
       "      <th>Number of Credit Accounts</th>\n",
       "      <th>Loan Amount</th>\n",
       "      <th>Interest Rate</th>\n",
       "      <th>Loan Term</th>\n",
       "      <th>Type of Loan</th>\n",
       "    </tr>\n",
       "  </thead>\n",
       "  <tbody>\n",
       "    <tr>\n",
       "      <th>0</th>\n",
       "      <td>60</td>\n",
       "      <td>Male</td>\n",
       "      <td>Married</td>\n",
       "      <td>Master</td>\n",
       "      <td>Employed</td>\n",
       "      <td>0.22</td>\n",
       "      <td>2685.0</td>\n",
       "      <td>2</td>\n",
       "      <td>4675000</td>\n",
       "      <td>2.65</td>\n",
       "      <td>48</td>\n",
       "      <td>2</td>\n",
       "    </tr>\n",
       "    <tr>\n",
       "      <th>1</th>\n",
       "      <td>25</td>\n",
       "      <td>Male</td>\n",
       "      <td>Married</td>\n",
       "      <td>High School</td>\n",
       "      <td>Unemployed</td>\n",
       "      <td>0.20</td>\n",
       "      <td>2371.0</td>\n",
       "      <td>9</td>\n",
       "      <td>3619000</td>\n",
       "      <td>5.19</td>\n",
       "      <td>60</td>\n",
       "      <td>0</td>\n",
       "    </tr>\n",
       "    <tr>\n",
       "      <th>2</th>\n",
       "      <td>30</td>\n",
       "      <td>Female</td>\n",
       "      <td>Single</td>\n",
       "      <td>Master</td>\n",
       "      <td>Employed</td>\n",
       "      <td>0.22</td>\n",
       "      <td>2771.0</td>\n",
       "      <td>6</td>\n",
       "      <td>957000</td>\n",
       "      <td>2.76</td>\n",
       "      <td>12</td>\n",
       "      <td>0</td>\n",
       "    </tr>\n",
       "    <tr>\n",
       "      <th>3</th>\n",
       "      <td>58</td>\n",
       "      <td>Female</td>\n",
       "      <td>Married</td>\n",
       "      <td>PhD</td>\n",
       "      <td>Unemployed</td>\n",
       "      <td>0.12</td>\n",
       "      <td>1371.0</td>\n",
       "      <td>2</td>\n",
       "      <td>4731000</td>\n",
       "      <td>6.57</td>\n",
       "      <td>60</td>\n",
       "      <td>0</td>\n",
       "    </tr>\n",
       "    <tr>\n",
       "      <th>4</th>\n",
       "      <td>32</td>\n",
       "      <td>Male</td>\n",
       "      <td>Married</td>\n",
       "      <td>Bachelor</td>\n",
       "      <td>Self-Employed</td>\n",
       "      <td>0.99</td>\n",
       "      <td>828.0</td>\n",
       "      <td>2</td>\n",
       "      <td>3289000</td>\n",
       "      <td>6.28</td>\n",
       "      <td>36</td>\n",
       "      <td>2</td>\n",
       "    </tr>\n",
       "    <tr>\n",
       "      <th>...</th>\n",
       "      <td>...</td>\n",
       "      <td>...</td>\n",
       "      <td>...</td>\n",
       "      <td>...</td>\n",
       "      <td>...</td>\n",
       "      <td>...</td>\n",
       "      <td>...</td>\n",
       "      <td>...</td>\n",
       "      <td>...</td>\n",
       "      <td>...</td>\n",
       "      <td>...</td>\n",
       "      <td>...</td>\n",
       "    </tr>\n",
       "    <tr>\n",
       "      <th>995</th>\n",
       "      <td>59</td>\n",
       "      <td>Male</td>\n",
       "      <td>Divorced</td>\n",
       "      <td>High School</td>\n",
       "      <td>Employed</td>\n",
       "      <td>0.74</td>\n",
       "      <td>1285.0</td>\n",
       "      <td>8</td>\n",
       "      <td>3530000</td>\n",
       "      <td>12.99</td>\n",
       "      <td>48</td>\n",
       "      <td>0</td>\n",
       "    </tr>\n",
       "    <tr>\n",
       "      <th>996</th>\n",
       "      <td>64</td>\n",
       "      <td>Male</td>\n",
       "      <td>Divorced</td>\n",
       "      <td>Bachelor</td>\n",
       "      <td>Unemployed</td>\n",
       "      <td>0.77</td>\n",
       "      <td>1857.0</td>\n",
       "      <td>2</td>\n",
       "      <td>1377000</td>\n",
       "      <td>18.02</td>\n",
       "      <td>60</td>\n",
       "      <td>1</td>\n",
       "    </tr>\n",
       "    <tr>\n",
       "      <th>997</th>\n",
       "      <td>63</td>\n",
       "      <td>Female</td>\n",
       "      <td>Single</td>\n",
       "      <td>Master</td>\n",
       "      <td>Self-Employed</td>\n",
       "      <td>0.18</td>\n",
       "      <td>2628.0</td>\n",
       "      <td>10</td>\n",
       "      <td>2443000</td>\n",
       "      <td>18.95</td>\n",
       "      <td>12</td>\n",
       "      <td>2</td>\n",
       "    </tr>\n",
       "    <tr>\n",
       "      <th>998</th>\n",
       "      <td>51</td>\n",
       "      <td>Female</td>\n",
       "      <td>Married</td>\n",
       "      <td>PhD</td>\n",
       "      <td>Self-Employed</td>\n",
       "      <td>0.32</td>\n",
       "      <td>1142.0</td>\n",
       "      <td>3</td>\n",
       "      <td>1301000</td>\n",
       "      <td>1.80</td>\n",
       "      <td>24</td>\n",
       "      <td>0</td>\n",
       "    </tr>\n",
       "    <tr>\n",
       "      <th>999</th>\n",
       "      <td>37</td>\n",
       "      <td>Female</td>\n",
       "      <td>Married</td>\n",
       "      <td>Master</td>\n",
       "      <td>Self-Employed</td>\n",
       "      <td>0.17</td>\n",
       "      <td>1028.0</td>\n",
       "      <td>5</td>\n",
       "      <td>4182000</td>\n",
       "      <td>9.34</td>\n",
       "      <td>24</td>\n",
       "      <td>0</td>\n",
       "    </tr>\n",
       "  </tbody>\n",
       "</table>\n",
       "<p>1000 rows × 12 columns</p>\n",
       "</div>"
      ],
      "text/plain": [
       "     Age  Gender Marital Status Education Level Employment Status  \\\n",
       "0     60    Male        Married          Master          Employed   \n",
       "1     25    Male        Married     High School        Unemployed   \n",
       "2     30  Female         Single          Master          Employed   \n",
       "3     58  Female        Married             PhD        Unemployed   \n",
       "4     32    Male        Married        Bachelor     Self-Employed   \n",
       "..   ...     ...            ...             ...               ...   \n",
       "995   59    Male       Divorced     High School          Employed   \n",
       "996   64    Male       Divorced        Bachelor        Unemployed   \n",
       "997   63  Female         Single          Master     Self-Employed   \n",
       "998   51  Female        Married             PhD     Self-Employed   \n",
       "999   37  Female        Married          Master     Self-Employed   \n",
       "\n",
       "     Credit Utilization Ratio  Payment History  Number of Credit Accounts  \\\n",
       "0                        0.22           2685.0                          2   \n",
       "1                        0.20           2371.0                          9   \n",
       "2                        0.22           2771.0                          6   \n",
       "3                        0.12           1371.0                          2   \n",
       "4                        0.99            828.0                          2   \n",
       "..                        ...              ...                        ...   \n",
       "995                      0.74           1285.0                          8   \n",
       "996                      0.77           1857.0                          2   \n",
       "997                      0.18           2628.0                         10   \n",
       "998                      0.32           1142.0                          3   \n",
       "999                      0.17           1028.0                          5   \n",
       "\n",
       "     Loan Amount  Interest Rate  Loan Term  Type of Loan  \n",
       "0        4675000           2.65         48             2  \n",
       "1        3619000           5.19         60             0  \n",
       "2         957000           2.76         12             0  \n",
       "3        4731000           6.57         60             0  \n",
       "4        3289000           6.28         36             2  \n",
       "..           ...            ...        ...           ...  \n",
       "995      3530000          12.99         48             0  \n",
       "996      1377000          18.02         60             1  \n",
       "997      2443000          18.95         12             2  \n",
       "998      1301000           1.80         24             0  \n",
       "999      4182000           9.34         24             0  \n",
       "\n",
       "[1000 rows x 12 columns]"
      ]
     },
     "execution_count": 7,
     "metadata": {},
     "output_type": "execute_result"
    }
   ],
   "source": [
    "#printing 'df'\n",
    "df"
   ]
  },
  {
   "cell_type": "code",
   "execution_count": 8,
   "id": "a872abc3",
   "metadata": {},
   "outputs": [
    {
     "name": "stdout",
     "output_type": "stream",
     "text": [
      "(1000, 11)\n"
     ]
    }
   ],
   "source": [
    "from sklearn.preprocessing import LabelEncoder\n",
    "x= df.iloc[:,:-1].values\n",
    "y= df.iloc[:,-1].values\n",
    "print(x.shape)"
   ]
  },
  {
   "cell_type": "code",
   "execution_count": 9,
   "id": "3f484aee",
   "metadata": {
    "scrolled": true
   },
   "outputs": [
    {
     "name": "stdout",
     "output_type": "stream",
     "text": [
      "[[40 1 1 ... 851 63 3]\n",
      " [5 1 1 ... 663 167 4]\n",
      " [10 0 2 ... 165 68 0]\n",
      " ...\n",
      " [43 0 2 ... 454 726 0]\n",
      " [31 0 1 ... 227 28 1]\n",
      " [17 0 1 ... 758 328 1]]\n"
     ]
    }
   ],
   "source": [
    "en=LabelEncoder()\n",
    "x[:,0]=en.fit_transform(x[:,0])\n",
    "en1=LabelEncoder()\n",
    "x[:,1]=en.fit_transform(x[:,1])\n",
    "en2=LabelEncoder()\n",
    "x[:,2]=en.fit_transform(x[:,2])\n",
    "en3=LabelEncoder()\n",
    "x[:,3]=en.fit_transform(x[:,3])\n",
    "en4=LabelEncoder()\n",
    "x[:,4]=en.fit_transform(x[:,4])\n",
    "en5=LabelEncoder()\n",
    "x[:,5]=en.fit_transform(x[:,5])\n",
    "en6=LabelEncoder()\n",
    "x[:,6]=en.fit_transform(x[:,6])\n",
    "en7=LabelEncoder()\n",
    "x[:,7]=en.fit_transform(x[:,7])\n",
    "en8=LabelEncoder()\n",
    "x[:,8]=en.fit_transform(x[:,8])\n",
    "en9=LabelEncoder()\n",
    "x[:,9]=en.fit_transform(x[:,9])\n",
    "en10=LabelEncoder()\n",
    "x[:,10]=en.fit_transform(x[:,10])\n",
    "\n",
    "\n",
    "print(x)"
   ]
  },
  {
   "cell_type": "code",
   "execution_count": 10,
   "id": "e2b1540f",
   "metadata": {},
   "outputs": [
    {
     "name": "stdout",
     "output_type": "stream",
     "text": [
      "[2 0 0 0 2 2 0 1 2 2 1 1 2 0 2 2 1 1 2 2 0 1 2 2 0 2 0 2 2 1 0 1 0 1 1 1 1\n",
      " 1 1 1 2 2 1 1 2 2 1 1 0 0 2 1 2 1 1 2 0 1 0 0 2 0 0 0 0 2 1 2 2 1 1 0 1 1\n",
      " 0 1 1 1 1 2 0 2 1 2 2 0 1 2 1 2 0 2 2 2 0 2 1 2 2 1 1 2 1 0 2 1 2 1 2 0 1\n",
      " 0 2 1 0 2 2 2 0 2 1 2 1 2 0 2 2 2 0 0 0 0 2 2 1 0 1 0 1 2 1 0 0 1 1 0 1 1\n",
      " 1 2 2 0 2 1 2 0 0 1 1 0 1 2 1 1 2 1 1 2 0 0 0 0 2 2 0 1 2 1 0 0 2 1 0 2 1\n",
      " 0 1 0 1 0 2 2 1 0 0 0 1 0 1 0 1 0 1 2 1 1 0 0 2 2 2 0 2 2 0 2 2 1 0 0 2 0\n",
      " 0 1 2 0 0 1 1 1 1 1 1 2 1 2 2 0 1 1 2 1 1 2 1 2 2 2 0 2 2 2 0 0 2 2 1 2 1\n",
      " 0 0 0 0 0 0 1 1 0 2 0 2 0 2 2 1 0 2 0 2 0 0 0 0 1 1 2 2 0 0 0 0 0 2 2 2 1\n",
      " 1 2 1 2 2 0 0 1 2 1 0 0 0 0 2 2 0 1 1 2 2 0 2 0 1 0 1 1 2 1 0 1 0 2 2 2 0\n",
      " 1 2 2 0 1 0 1 2 2 1 1 0 1 0 0 2 1 1 0 1 2 1 0 0 2 2 0 2 0 0 0 2 2 1 1 0 1\n",
      " 0 0 1 2 2 1 1 1 1 2 0 0 1 0 0 0 0 2 1 1 2 2 1 0 1 2 1 1 1 0 2 0 1 1 0 2 0\n",
      " 1 0 2 2 1 2 1 1 0 0 2 0 0 0 0 1 1 0 1 0 0 2 0 1 1 0 1 2 1 0 0 1 2 0 0 2 2\n",
      " 0 0 1 1 0 1 0 0 1 2 2 1 1 0 0 2 2 1 0 2 0 0 2 1 2 0 0 1 2 2 1 2 2 0 0 1 0\n",
      " 2 2 0 0 1 1 2 1 1 1 1 0 0 0 1 2 0 1 0 1 1 2 0 2 1 0 1 1 1 1 1 1 0 2 1 0 2\n",
      " 0 1 1 2 1 2 0 0 0 1 0 0 1 1 1 0 2 2 1 1 0 2 2 1 2 1 1 2 0 0 2 1 0 0 0 1 2\n",
      " 2 1 1 2 0 2 0 0 0 0 2 0 0 0 0 2 2 0 1 0 0 2 1 0 0 1 0 1 0 2 1 0 0 2 0 1 0\n",
      " 2 0 2 0 0 1 1 0 0 2 1 2 0 1 1 2 1 0 2 2 0 1 1 2 0 0 0 2 1 1 0 1 0 1 2 1 1\n",
      " 1 2 2 1 2 2 2 2 0 1 1 2 0 1 1 2 2 2 0 2 0 2 2 1 1 1 0 1 1 0 2 1 2 1 0 0 1\n",
      " 1 0 2 2 1 0 0 0 1 1 2 0 2 0 0 1 1 2 2 2 0 1 1 2 0 1 1 0 1 1 2 1 2 2 1 0 1\n",
      " 2 1 2 2 0 0 1 2 0 1 0 1 0 2 0 1 0 2 0 0 1 2 2 0 2 1 0 2 1 1 1 0 0 0 0 0 1\n",
      " 0 2 2 1 2 1 1 0 1 0 2 2 1 2 0 2 0 0 1 0 0 1 1 0 0 0 1 1 2 0 1 2 0 1 1 0 1\n",
      " 2 1 2 2 1 1 2 0 0 1 2 2 1 1 2 1 2 2 0 0 0 1 0 2 0 1 0 1 2 2 0 1 1 2 0 2 2\n",
      " 0 2 1 2 1 2 2 2 0 2 1 2 1 2 0 1 2 2 1 0 0 1 2 1 0 2 2 0 2 1 0 0 2 0 2 0 0\n",
      " 1 1 2 0 0 0 2 0 0 2 1 2 2 1 1 2 2 0 1 0 0 0 0 0 0 1 1 0 2 0 2 1 0 2 0 0 1\n",
      " 2 2 2 2 2 0 2 0 2 2 0 0 2 2 0 2 0 2 0 1 2 2 0 0 2 1 0 0 2 2 0 2 1 1 2 1 1\n",
      " 0 2 2 0 0 1 1 0 1 1 2 2 0 1 2 1 0 2 1 1 2 0 1 2 0 0 2 0 1 1 2 1 0 2 0 2 0\n",
      " 0 2 1 1 2 1 2 0 2 1 1 2 0 2 0 1 0 1 2 2 0 2 0 1 1 2 0 1 0 0 2 2 1 0 1 2 0\n",
      " 0]\n"
     ]
    }
   ],
   "source": [
    "print(y)"
   ]
  },
  {
   "cell_type": "code",
   "execution_count": 11,
   "id": "527f2d99",
   "metadata": {},
   "outputs": [
    {
     "name": "stdout",
     "output_type": "stream",
     "text": [
      "(700, 11)\n",
      "(700,)\n",
      "(300, 11)\n",
      "(300,)\n"
     ]
    }
   ],
   "source": [
    "from sklearn.model_selection import train_test_split\n",
    "x_train,x_test,y_train,y_test = train_test_split(x,y,test_size=.3,random_state=42)\n",
    "print(x_train.shape)\n",
    "print(y_train.shape)\n",
    "print(x_test.shape)\n",
    "print(y_test.shape)"
   ]
  },
  {
   "cell_type": "code",
   "execution_count": 12,
   "id": "1ab9ebe5",
   "metadata": {},
   "outputs": [
    {
     "name": "stdout",
     "output_type": "stream",
     "text": [
      "[[19 0 2 ... 155 480 4]\n",
      " [25 0 0 ... 507 421 2]\n",
      " [29 1 0 ... 538 259 1]\n",
      " ...\n",
      " [43 0 0 ... 667 714 2]\n",
      " [11 1 1 ... 614 506 4]\n",
      " [20 1 1 ... 522 284 4]]\n"
     ]
    }
   ],
   "source": [
    "print(x_train)"
   ]
  },
  {
   "cell_type": "code",
   "execution_count": 13,
   "id": "c312d04d",
   "metadata": {},
   "outputs": [
    {
     "name": "stdout",
     "output_type": "stream",
     "text": [
      "[1 0 2 1 1 0 2 2 1 0 2 1 0 0 0 2 1 1 1 2 2 1 0 1 2 0 1 1 0 2 2 2 0 1 2 2 2\n",
      " 0 0 1 0 0 2 2 1 0 0 2 0 2 1 1 0 1 0 0 2 0 0 1 1 1 0 0 2 2 1 0 1 1 0 2 1 2\n",
      " 0 1 0 1 0 2 1 0 1 1 2 1 1 2 0 1 0 2 2 2 2 0 2 2 0 2 0 1 2 1 0 1 2 0 1 1 0\n",
      " 1 1 0 2 2 1 1 0 1 2 0 0 0 1 1 2 0 1 2 2 2 1 1 2 2 0 0 2 2 1 0 2 1 2 1 2 2\n",
      " 1 0 1 0 0 1 0 2 0 2 1 2 0 1 1 0 2 2 0 2 0 0 2 2 1 2 0 0 1 1 1 0 2 0 1 1 0\n",
      " 1 1 2 2 0 1 1 0 1 0 0 0 0 0 1 0 1 2 0 2 2 2 0 1 2 2 0 2 2 2 1 0 0 2 2 0 1\n",
      " 1 2 1 0 0 2 2 2 2 2 0 1 0 2 1 1 2 1 1 0 2 2 2 1 1 2 0 2 2 2 0 1 2 2 1 2 1\n",
      " 1 0 0 0 0 0 2 1 2 2 2 2 0 1 2 2 2 0 0 0 1 1 2 1 1 1 1 1 1 1 1 2 0 0 0 0 2\n",
      " 0 1 0 1 1 2 1 2 1 1 2 2 0 1 2 0 0 1 1 2 1 2 0 2 2 1 1 0 1 1 0 1 1 1 0 0 1\n",
      " 1 1 0 0 1 0 2 2 1 1 1 2 0 1 0 1 0 0 0 1 0 0 2 0 2 1 2 2 0 2 2 0 0 1 0 0 0\n",
      " 2 0 2 0 2 1 0 1 2 0 0 1 1 2 0 1 1 2 0 1 1 2 1 1 2 0 2 2 1 2 2 2 2 0 0 1 1\n",
      " 1 2 1 1 2 2 2 1 1 2 2 1 1 2 0 0 0 2 2 1 2 1 1 2 0 0 0 0 1 1 0 0 1 0 1 0 1\n",
      " 0 0 0 1 2 2 0 0 0 0 1 1 0 2 0 2 2 1 1 1 2 0 2 2 2 2 0 2 0 2 2 0 1 2 1 2 1\n",
      " 1 0 1 0 2 1 0 2 0 1 1 2 0 2 2 0 0 2 2 1 0 1 0 0 1 2 0 0 1 2 0 1 2 2 0 1 1\n",
      " 2 0 2 2 0 0 2 1 2 0 1 2 1 1 2 1 2 2 1 0 0 0 0 2 2 2 1 2 1 0 2 1 0 2 2 1 1\n",
      " 2 0 1 1 0 1 0 0 1 2 2 1 1 0 1 0 0 0 1 0 0 0 2 2 0 2 0 2 0 0 2 2 2 0 1 1 0\n",
      " 2 1 0 2 0 1 1 1 2 2 0 0 2 2 0 0 1 2 2 2 1 2 1 0 0 0 0 0 1 1 0 1 0 2 1 2 1\n",
      " 2 0 1 1 1 0 2 0 2 2 1 2 2 2 1 0 2 2 2 2 0 0 0 0 0 1 2 2 1 1 0 1 2 0 0 0 1\n",
      " 1 2 1 2 2 2 0 2 1 1 1 0 0 2 0 0 0 1 1 2 0 2 0 2 2 1 0 1 0 2 2 2 1 1]\n"
     ]
    }
   ],
   "source": [
    "print(y_train)"
   ]
  },
  {
   "cell_type": "code",
   "execution_count": 14,
   "id": "bb1136d5",
   "metadata": {},
   "outputs": [
    {
     "name": "stdout",
     "output_type": "stream",
     "text": [
      "[[37 1 0 ... 854 10 0]\n",
      " [42 0 1 ... 447 154 1]\n",
      " [29 0 0 ... 388 680 1]\n",
      " ...\n",
      " [7 0 1 ... 248 276 0]\n",
      " [4 1 0 ... 226 195 1]\n",
      " [5 1 0 ... 50 378 4]]\n"
     ]
    }
   ],
   "source": [
    "print(x_test)"
   ]
  },
  {
   "cell_type": "code",
   "execution_count": 15,
   "id": "b5472fbf",
   "metadata": {},
   "outputs": [
    {
     "name": "stdout",
     "output_type": "stream",
     "text": [
      "[2 0 0 1 1 2 2 0 0 1 0 1 2 2 1 0 0 0 1 0 1 0 0 1 2 2 2 1 0 1 0 2 1 0 0 1 1\n",
      " 2 2 0 0 1 0 0 2 0 1 2 2 1 2 2 0 0 2 0 0 1 0 2 1 1 2 2 0 1 1 2 1 1 1 0 1 2\n",
      " 2 0 1 1 0 0 0 1 0 2 2 2 0 1 2 1 1 0 1 0 2 0 0 1 0 1 2 0 2 1 2 2 2 0 0 2 0\n",
      " 2 1 1 1 0 1 0 2 2 2 1 0 0 0 0 0 0 2 2 0 0 1 0 0 2 1 2 2 1 2 2 0 0 0 0 2 1\n",
      " 0 0 1 1 1 0 0 0 0 1 2 2 0 1 0 2 1 2 1 2 1 2 0 1 1 1 1 0 2 0 1 0 0 1 1 0 0\n",
      " 0 0 2 2 0 2 1 1 0 2 0 0 2 1 1 1 2 1 1 2 0 1 0 1 1 2 0 0 2 0 2 0 2 1 0 1 0\n",
      " 2 0 2 0 1 1 0 1 0 1 2 0 1 1 1 2 1 1 0 1 2 0 0 0 1 1 2 2 1 0 1 2 1 1 1 2 2\n",
      " 2 1 0 2 1 2 0 1 0 2 0 1 0 2 2 2 2 1 2 2 2 0 0 1 0 0 0 0 1 1 0 0 0 1 0 0 2\n",
      " 2 2 1 0]\n"
     ]
    }
   ],
   "source": [
    "print(y_test)"
   ]
  },
  {
   "cell_type": "code",
   "execution_count": 16,
   "id": "f14053b7",
   "metadata": {},
   "outputs": [
    {
     "name": "stdout",
     "output_type": "stream",
     "text": [
      "0.34\n",
      "Accuracy for RF is: 34.0\n",
      "Confusion Matrix\n",
      "[[36 32 46]\n",
      " [27 36 35]\n",
      " [29 29 30]]\n"
     ]
    }
   ],
   "source": [
    "from sklearn.ensemble import RandomForestClassifier\n",
    "from sklearn.metrics import confusion_matrix, accuracy_score\n",
    "model = RandomForestClassifier()\n",
    "model.fit(x_train,y_train)\n",
    "\n",
    "y_pred = model.predict(x_test)\n",
    "rf_accuracy= (accuracy_score(y_test,y_pred))*100\n",
    "confusion_matrix= confusion_matrix(y_test,y_pred)\n",
    "\n",
    "rf_score= model.score(x_test,y_test)\n",
    "print (rf_score)\n",
    "print(\"Accuracy for RF is:\",rf_accuracy)\n",
    "print(\"Confusion Matrix\")\n",
    "print(confusion_matrix)"
   ]
  },
  {
   "cell_type": "code",
   "execution_count": 17,
   "id": "50f784d3",
   "metadata": {},
   "outputs": [
    {
     "name": "stdout",
     "output_type": "stream",
     "text": [
      "0.3\n",
      "Accuracy for DT is: 30.0\n",
      "Confusion Matrix\n",
      "[[31 37 46]\n",
      " [32 35 31]\n",
      " [32 32 24]]\n"
     ]
    }
   ],
   "source": [
    "from sklearn.tree import DecisionTreeClassifier\n",
    "from sklearn.metrics import confusion_matrix, accuracy_score\n",
    "model = DecisionTreeClassifier()\n",
    "model.fit(x_train,y_train)\n",
    "\n",
    "y_pred = model.predict(x_test)\n",
    "dt_accuracy= (accuracy_score(y_test,y_pred))*100\n",
    "confusion_matrix= confusion_matrix(y_test,y_pred)\n",
    "\n",
    "dt_score= model.score(x_test,y_test)\n",
    "print (dt_score)\n",
    "print(\"Accuracy for DT is:\",dt_accuracy)\n",
    "print(\"Confusion Matrix\")\n",
    "print(confusion_matrix)"
   ]
  },
  {
   "cell_type": "code",
   "execution_count": 18,
   "id": "10d75428",
   "metadata": {},
   "outputs": [
    {
     "name": "stdout",
     "output_type": "stream",
     "text": [
      "0.38\n",
      "Accuracy for KNN is: 38.0\n",
      "Confusion Matrix\n",
      "[[55 27 32]\n",
      " [36 39 23]\n",
      " [44 24 20]]\n"
     ]
    }
   ],
   "source": [
    "from sklearn.neighbors import KNeighborsClassifier\n",
    "from sklearn.metrics import confusion_matrix, accuracy_score\n",
    "model = KNeighborsClassifier()\n",
    "model.fit(x_train,y_train)\n",
    "\n",
    "y_pred = model.predict(x_test)\n",
    "kn_accuracy= (accuracy_score(y_test,y_pred))*100\n",
    "confusion_matrix= confusion_matrix(y_test,y_pred)\n",
    "\n",
    "kn_score= model.score(x_test,y_test)\n",
    "print (kn_score)\n",
    "print(\"Accuracy for KNN is:\",kn_accuracy)\n",
    "print(\"Confusion Matrix\")\n",
    "print(confusion_matrix)"
   ]
  },
  {
   "cell_type": "code",
   "execution_count": 19,
   "id": "46673b99",
   "metadata": {},
   "outputs": [
    {
     "name": "stdout",
     "output_type": "stream",
     "text": [
      "0.29\n",
      "Accuracy for SVC is: 28.999999999999996\n",
      "Confusion Matrix\n",
      "[[31  8 75]\n",
      " [28 10 60]\n",
      " [28 14 46]]\n"
     ]
    }
   ],
   "source": [
    "from sklearn.svm import SVC\n",
    "from sklearn.metrics import confusion_matrix, accuracy_score\n",
    "model = SVC()\n",
    "model.fit(x_train,y_train)\n",
    "\n",
    "y_pred = model.predict(x_test)\n",
    "svc_accuracy= (accuracy_score(y_test,y_pred))*100\n",
    "confusion_matrix= confusion_matrix(y_test,y_pred)\n",
    "\n",
    "svc_score= model.score(x_test,y_test)\n",
    "print (svc_score)\n",
    "print(\"Accuracy for SVC is:\",svc_accuracy)\n",
    "print(\"Confusion Matrix\")\n",
    "print(confusion_matrix)"
   ]
  },
  {
   "cell_type": "code",
   "execution_count": 20,
   "id": "1d9224ae",
   "metadata": {},
   "outputs": [
    {
     "name": "stdout",
     "output_type": "stream",
     "text": [
      "0.3933333333333333\n",
      "Accuracy for NB is: 39.33333333333333\n",
      "Confusion Matrix\n",
      "[[41 32 41]\n",
      " [34 43 21]\n",
      " [30 24 34]]\n"
     ]
    }
   ],
   "source": [
    "from sklearn.naive_bayes import GaussianNB\n",
    "from sklearn.metrics import confusion_matrix, accuracy_score\n",
    "model = GaussianNB()\n",
    "model.fit(x_train,y_train)\n",
    "\n",
    "y_pred = model.predict(x_test)\n",
    "GaussianNB_accuracy= (accuracy_score(y_test,y_pred))*100\n",
    "confusion_matrix= confusion_matrix(y_test,y_pred)\n",
    "\n",
    "GaussianNB_score= model.score(x_test,y_test)\n",
    "print (GaussianNB_score)\n",
    "print(\"Accuracy for NB is:\",GaussianNB_accuracy)\n",
    "print(\"Confusion Matrix\")\n",
    "print(confusion_matrix)"
   ]
  },
  {
   "cell_type": "code",
   "execution_count": 21,
   "id": "bf6acad8",
   "metadata": {},
   "outputs": [
    {
     "name": "stdout",
     "output_type": "stream",
     "text": [
      "0.39\n",
      "Accuracy for LD is: 39.0\n",
      "Confusion Matrix\n",
      "[[42 32 40]\n",
      " [36 43 19]\n",
      " [29 27 32]]\n"
     ]
    }
   ],
   "source": [
    "from sklearn.discriminant_analysis import LinearDiscriminantAnalysis\n",
    "from sklearn.metrics import confusion_matrix, accuracy_score\n",
    "model = LinearDiscriminantAnalysis()\n",
    "model.fit(x_train,y_train)\n",
    "\n",
    "y_pred = model.predict(x_test)\n",
    "ld_accuracy= (accuracy_score(y_test,y_pred))*100\n",
    "confusion_matrix= confusion_matrix(y_test,y_pred)\n",
    "\n",
    "ld_score= model.score(x_test,y_test)\n",
    "print (ld_score)\n",
    "print(\"Accuracy for LD is:\",ld_accuracy)\n",
    "print(\"Confusion Matrix\")\n",
    "print(confusion_matrix)"
   ]
  },
  {
   "cell_type": "code",
   "execution_count": 22,
   "id": "408d9fe1",
   "metadata": {},
   "outputs": [
    {
     "name": "stdout",
     "output_type": "stream",
     "text": [
      "0.32666666666666666\n",
      "Accuracy for MLP is: 32.666666666666664\n",
      "Confusion Matrix\n",
      "[[14 64 36]\n",
      " [12 59 27]\n",
      " [18 45 25]]\n"
     ]
    }
   ],
   "source": [
    "from sklearn.neural_network import MLPClassifier\n",
    "from sklearn.metrics import confusion_matrix, accuracy_score\n",
    "model = MLPClassifier(max_iter=300)\n",
    "model.fit(x_train,y_train)\n",
    "\n",
    "y_pred = model.predict(x_test)\n",
    "mlp_accuracy= (accuracy_score(y_test,y_pred))*100\n",
    "confusion_matrix= confusion_matrix(y_test,y_pred)\n",
    "\n",
    "mlp_score= model.score(x_test,y_test)\n",
    "print (mlp_score)\n",
    "print(\"Accuracy for MLP is:\",mlp_accuracy)\n",
    "print(\"Confusion Matrix\")\n",
    "print(confusion_matrix)"
   ]
  },
  {
   "cell_type": "code",
   "execution_count": 23,
   "id": "fe93b656",
   "metadata": {},
   "outputs": [
    {
     "data": {
      "text/html": [
       "<div>\n",
       "<style scoped>\n",
       "    .dataframe tbody tr th:only-of-type {\n",
       "        vertical-align: middle;\n",
       "    }\n",
       "\n",
       "    .dataframe tbody tr th {\n",
       "        vertical-align: top;\n",
       "    }\n",
       "\n",
       "    .dataframe thead th {\n",
       "        text-align: right;\n",
       "    }\n",
       "</style>\n",
       "<table border=\"1\" class=\"dataframe\">\n",
       "  <thead>\n",
       "    <tr style=\"text-align: right;\">\n",
       "      <th></th>\n",
       "      <th>Model_Name</th>\n",
       "      <th>Score</th>\n",
       "    </tr>\n",
       "  </thead>\n",
       "  <tbody>\n",
       "    <tr>\n",
       "      <th>0</th>\n",
       "      <td>RF</td>\n",
       "      <td>0.340000</td>\n",
       "    </tr>\n",
       "    <tr>\n",
       "      <th>1</th>\n",
       "      <td>DT</td>\n",
       "      <td>0.300000</td>\n",
       "    </tr>\n",
       "    <tr>\n",
       "      <th>2</th>\n",
       "      <td>KNN</td>\n",
       "      <td>0.380000</td>\n",
       "    </tr>\n",
       "    <tr>\n",
       "      <th>3</th>\n",
       "      <td>SVC</td>\n",
       "      <td>0.290000</td>\n",
       "    </tr>\n",
       "    <tr>\n",
       "      <th>4</th>\n",
       "      <td>NB</td>\n",
       "      <td>0.393333</td>\n",
       "    </tr>\n",
       "    <tr>\n",
       "      <th>5</th>\n",
       "      <td>LD</td>\n",
       "      <td>0.390000</td>\n",
       "    </tr>\n",
       "    <tr>\n",
       "      <th>6</th>\n",
       "      <td>MLP</td>\n",
       "      <td>0.326667</td>\n",
       "    </tr>\n",
       "  </tbody>\n",
       "</table>\n",
       "</div>"
      ],
      "text/plain": [
       "  Model_Name     Score\n",
       "0         RF  0.340000\n",
       "1         DT  0.300000\n",
       "2        KNN  0.380000\n",
       "3        SVC  0.290000\n",
       "4         NB  0.393333\n",
       "5         LD  0.390000\n",
       "6        MLP  0.326667"
      ]
     },
     "execution_count": 23,
     "metadata": {},
     "output_type": "execute_result"
    }
   ],
   "source": [
    "score= {\n",
    "    'Model_Name':['RF','DT','KNN','SVC','NB','LD', 'MLP'],\n",
    "    'Score': [rf_score,dt_score,kn_score,svc_score,GaussianNB_score,ld_score,mlp_score]\n",
    "        }\n",
    "score_df=pd.DataFrame(score)\n",
    "score_df"
   ]
  },
  {
   "cell_type": "code",
   "execution_count": 24,
   "id": "031bb826",
   "metadata": {},
   "outputs": [
    {
     "data": {
      "image/png": "[encoded data removed]",
      "text/plain": [
       "<Figure size 800x500 with 1 Axes>"
      ]
     },
     "metadata": {},
     "output_type": "display_data"
    }
   ],
   "source": [
    "import matplotlib.pyplot as plt\n",
    "fig= plt.figure(figsize=(8,5))\n",
    "barplot= plt.bar(score_df.Model_Name,score_df.Score,color=['Lavender','Pink','Cyan','Olive','Maroon','Tan','Teal'],edgecolor = \"black\", width = 0.50)\n",
    "plt.bar_label(barplot , labels= round(score_df.Score,3))\n",
    "plt.xlabel(\"Model Name\")\n",
    "plt.ylabel(\"Score\")\n",
    "plt.title(\"Score vs Model Name\")\n",
    "plt.show()"
   ]
  },
  {
   "cell_type": "code",
   "execution_count": 25,
   "id": "b5e50fd7",
   "metadata": {},
   "outputs": [
    {
     "data": {
      "image/png": "[encoded data removed]",
      "text/plain": [
       "<Figure size 800x500 with 1 Axes>"
      ]
     },
     "metadata": {},
     "output_type": "display_data"
    }
   ],
   "source": [
    "import matplotlib.pyplot as plt\n",
    "fig= plt.figure(figsize=(8,5))\n",
    "model=['RF','DT','KNN','SVC','NB','LD', 'MLP']\n",
    "accuracy= [rf_accuracy,dt_accuracy,kn_accuracy,svc_accuracy,GaussianNB_accuracy,ld_accuracy,mlp_accuracy]\n",
    "crs=['red', 'yellow', 'lavender', 'violet', 'pink', 'orange', 'tan']\n",
    "plt.pie(accuracy,labels=model,colors=crs,shadow=True,autopct=\"%.2f%%\",explode=(0.2,0.0,0.2,0.0,0.2,0.0,0.2))\n",
    "plt.xlabel(\"Model Name\")\n",
    "plt.ylabel(\"Accuracy Score\")\n",
    "plt.title(\"Accuracy Score vs Model Name\")\n",
    "plt.show()"
   ]
  },
  {
   "cell_type": "code",
   "execution_count": null,
   "id": "7b8bff27",
   "metadata": {},
   "outputs": [],
   "source": []
  }
 ],
 "metadata": {
  "kernelspec": {
   "display_name": "Python 3 (ipykernel)",
   "language": "python",
   "name": "python3"
  },
  "language_info": {
   "codemirror_mode": {
    "name": "ipython",
    "version": 3
   },
   "file_extension": ".py",
   "mimetype": "text/x-python",
   "name": "python",
   "nbconvert_exporter": "python",
   "pygments_lexer": "ipython3",
   "version": "3.10.9"
  }
 },
 "nbformat": 4,
 "nbformat_minor": 5
}
